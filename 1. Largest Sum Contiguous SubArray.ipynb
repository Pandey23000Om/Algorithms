{
 "cells": [
  {
   "cell_type": "code",
   "execution_count": 43,
   "id": "6ef1e335",
   "metadata": {},
   "outputs": [],
   "source": [
    "arr = [-13, -3, -25, 20, -3, 16, -23, -12, -5, 22, 15, -9, 17]"
   ]
  },
  {
   "cell_type": "code",
   "execution_count": 44,
   "id": "73bb791c",
   "metadata": {},
   "outputs": [],
   "source": [
    "def max_sum_contiguous_subarray(arr):\n",
    "    max_so_far = max(arr)\n",
    "    max_now = 0\n",
    "    f = 0\n",
    "\n",
    "    for i in arr:\n",
    "\n",
    "        if i<0 and f==0:\n",
    "            continue\n",
    "        f=1\n",
    "        max_now += i\n",
    "\n",
    "        if max_now>max_so_far:\n",
    "            max_so_far = max_now\n",
    "\n",
    "        if max_now<0:\n",
    "            max_now=0\n",
    "\n",
    "    return(max_so_far)"
   ]
  },
  {
   "cell_type": "code",
   "execution_count": 45,
   "id": "0edc08a9",
   "metadata": {},
   "outputs": [
    {
     "name": "stdout",
     "output_type": "stream",
     "text": [
      "45\n"
     ]
    }
   ],
   "source": [
    "print(max_sum_contiguous_subarray(arr))"
   ]
  }
 ],
 "metadata": {
  "kernelspec": {
   "display_name": "Python 3",
   "language": "python",
   "name": "python3"
  },
  "language_info": {
   "codemirror_mode": {
    "name": "ipython",
    "version": 3
   },
   "file_extension": ".py",
   "mimetype": "text/x-python",
   "name": "python",
   "nbconvert_exporter": "python",
   "pygments_lexer": "ipython3",
   "version": "3.8.8"
  }
 },
 "nbformat": 4,
 "nbformat_minor": 5
}
